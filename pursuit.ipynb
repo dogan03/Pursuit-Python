{
 "cells": [
  {
   "cell_type": "code",
   "execution_count": 56,
   "metadata": {},
   "outputs": [
    {
     "name": "stdout",
     "output_type": "stream",
     "text": [
      "The autoreload extension is already loaded. To reload it, use:\n",
      "  %reload_ext autoreload\n"
     ]
    }
   ],
   "source": [
    "%load_ext autoreload\n",
    "%autoreload 2 \n",
    "import Model \n",
    "import pandas as pd\n",
    "import numpy as np\n",
    "import random"
   ]
  },
  {
   "cell_type": "code",
   "execution_count": 57,
   "metadata": {},
   "outputs": [],
   "source": [
    "train = Model.text_to_df(\"train\")\n",
    "train_gold = Model.csv_to_dict(\"train_gold\")\n",
    "test = Model.text_to_df(\"test\")\n",
    "test_gold = Model.csv_to_dict(\"test_gold\")\n"
   ]
  },
  {
   "cell_type": "code",
   "execution_count": 58,
   "metadata": {},
   "outputs": [],
   "source": [
    "model = Model.Pursuit(Vocabulary={},gamma=0.02,smoothing_factor=0.001,treshold=0.5)"
   ]
  },
  {
   "cell_type": "code",
   "execution_count": 59,
   "metadata": {},
   "outputs": [],
   "source": [
    "model.set_Vocabulary(test,get_Vocab = False)"
   ]
  },
  {
   "cell_type": "code",
   "execution_count": 60,
   "metadata": {},
   "outputs": [
    {
     "name": "stdout",
     "output_type": "stream",
     "text": [
      "[FALSE:baby in Vocab: CAT, in gold set: BABY]\n",
      "[TRUE:bigbird in Vocab: BIRD, in gold set: BIRD]\n",
      "[TRUE:hand in Vocab: HAND, in gold set: HAND]\n",
      "[TRUE:pig in Vocab: PIG, in gold set: PIG]\n",
      "[TRUE:sheep in Vocab: LAMB, in gold set: LAMB]\n",
      "[TRUE:bear in Vocab: BEAR, in gold set: BEAR]\n",
      "[TRUE:book in Vocab: BOOK, in gold set: BOOK]\n",
      "[TRUE:cow in Vocab: COW, in gold set: COW]\n",
      "[TRUE:hat in Vocab: HAT, in gold set: HAT]\n",
      "[FALSE:kittycat in Vocab: BOOK, in gold set: CAT]\n",
      "[TRUE:rabbit in Vocab: BUNNY, in gold set: BUNNY]\n",
      "[TRUE:mirror in Vocab: MIRROR, in gold set: MIRROR]\n",
      "[TRUE:foot in Vocab: FOOT, in gold set: FOOT]\n",
      "[TRUE:car in Vocab: CAR, in gold set: CAR]\n",
      "85% Accuracy\n"
     ]
    }
   ],
   "source": [
    "model.get_Results(test_gold,get_Score = False,Compare=True)"
   ]
  }
 ],
 "metadata": {
  "kernelspec": {
   "display_name": "Python 3",
   "language": "python",
   "name": "python3"
  },
  "language_info": {
   "codemirror_mode": {
    "name": "ipython",
    "version": 3
   },
   "file_extension": ".py",
   "mimetype": "text/x-python",
   "name": "python",
   "nbconvert_exporter": "python",
   "pygments_lexer": "ipython3",
   "version": "3.11.4"
  }
 },
 "nbformat": 4,
 "nbformat_minor": 2
}
