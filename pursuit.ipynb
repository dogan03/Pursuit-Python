{
 "cells": [
  {
   "cell_type": "code",
   "execution_count": 1,
   "metadata": {},
   "outputs": [],
   "source": [
    "%load_ext autoreload\n",
    "%autoreload 2 \n",
    "import Model \n",
    "import pandas as pd\n",
    "import numpy as np\n",
    "import random"
   ]
  },
  {
   "cell_type": "code",
   "execution_count": 2,
   "metadata": {},
   "outputs": [],
   "source": [
    "model = Model.Pursuit(Vocabulary={},gamma=0.02,smoothing_factor=0.001,treshold=0.5,change_Denominator=True)"
   ]
  },
  {
   "cell_type": "code",
   "execution_count": 3,
   "metadata": {},
   "outputs": [],
   "source": [
    "train = model.text_to_df(\"train\")\n",
    "train_gold = model.csv_to_dict(\"train_gold\")\n",
    "test = model.text_to_df(\"test\")\n",
    "test_gold = model.csv_to_dict(\"test_gold\")\n"
   ]
  },
  {
   "cell_type": "code",
   "execution_count": 4,
   "metadata": {},
   "outputs": [],
   "source": [
    "model.set_Vocabulary(test,get_Vocab = False)"
   ]
  },
  {
   "cell_type": "code",
   "execution_count": 5,
   "metadata": {},
   "outputs": [
    {
     "name": "stdout",
     "output_type": "stream",
     "text": [
      "[FALSE:[baby] in Vocab: BOOK || in gold set: BABY]\n",
      "[TRUE:[bigbird] in Vocab: BIRD || in gold set: BIRD]\n",
      "[TRUE:[hand] in Vocab: HAND || in gold set: HAND]\n",
      "[TRUE:[pig] in Vocab: PIG || in gold set: PIG]\n",
      "[TRUE:[sheep] in Vocab: LAMB || in gold set: LAMB]\n",
      "[TRUE:[bear] in Vocab: BEAR || in gold set: BEAR]\n",
      "[TRUE:[book] in Vocab: BOOK || in gold set: BOOK]\n",
      "[TRUE:[cow] in Vocab: COW || in gold set: COW]\n",
      "[TRUE:[hat] in Vocab: HAT || in gold set: HAT]\n",
      "[TRUE:[kittycat] in Vocab: CAT || in gold set: CAT]\n",
      "[TRUE:[rabbit] in Vocab: BUNNY || in gold set: BUNNY]\n",
      "[TRUE:[mirror] in Vocab: MIRROR || in gold set: MIRROR]\n",
      "[TRUE:[foot] in Vocab: FOOT || in gold set: FOOT]\n",
      "[TRUE:[car] in Vocab: CAR || in gold set: CAR]\n",
      "92% Accuracy\n"
     ]
    }
   ],
   "source": [
    "model.get_Results(test_gold,get_Score = False,Compare=True) # Made the model LOCAL still 92%."
   ]
  }
 ],
 "metadata": {
  "kernelspec": {
   "display_name": "Python 3",
   "language": "python",
   "name": "python3"
  },
  "language_info": {
   "codemirror_mode": {
    "name": "ipython",
    "version": 3
   },
   "file_extension": ".py",
   "mimetype": "text/x-python",
   "name": "python",
   "nbconvert_exporter": "python",
   "pygments_lexer": "ipython3",
   "version": "3.11.4"
  }
 },
 "nbformat": 4,
 "nbformat_minor": 2
}
