{
 "cells": [
  {
   "cell_type": "code",
   "execution_count": 1,
   "metadata": {},
   "outputs": [],
   "source": [
    "%load_ext autoreload\n",
    "%autoreload 2 \n",
    "import Model \n",
    "import pandas as pd\n",
    "import numpy as np\n",
    "import random"
   ]
  },
  {
   "cell_type": "code",
   "execution_count": 2,
   "metadata": {},
   "outputs": [],
   "source": [
    "train = Model.text_to_df(\"train\")\n",
    "train_gold = Model.csv_to_dict(\"train_gold\")\n",
    "test = Model.text_to_df(\"test\")\n",
    "test_gold = Model.csv_to_dict(\"test_gold\")\n"
   ]
  },
  {
   "cell_type": "code",
   "execution_count": 3,
   "metadata": {},
   "outputs": [
    {
     "data": {
      "text/html": [
       "<div>\n",
       "<style scoped>\n",
       "    .dataframe tbody tr th:only-of-type {\n",
       "        vertical-align: middle;\n",
       "    }\n",
       "\n",
       "    .dataframe tbody tr th {\n",
       "        vertical-align: top;\n",
       "    }\n",
       "\n",
       "    .dataframe thead th {\n",
       "        text-align: right;\n",
       "    }\n",
       "</style>\n",
       "<table border=\"1\" class=\"dataframe\">\n",
       "  <thead>\n",
       "    <tr style=\"text-align: right;\">\n",
       "      <th></th>\n",
       "      <th>uttered</th>\n",
       "      <th>visible</th>\n",
       "    </tr>\n",
       "  </thead>\n",
       "  <tbody>\n",
       "    <tr>\n",
       "      <th>0</th>\n",
       "      <td>[look, we, can, read, books, david]</td>\n",
       "      <td>[BOOK, BIRD, RATTLE, FACE]</td>\n",
       "    </tr>\n",
       "    <tr>\n",
       "      <th>1</th>\n",
       "      <td>[its, a, look, and, see, book]</td>\n",
       "      <td>[BOOK, BIRD, RATTLE, FACE]</td>\n",
       "    </tr>\n",
       "    <tr>\n",
       "      <th>2</th>\n",
       "      <td>[we, open, it, up]</td>\n",
       "      <td>[BOOK, BIRD, RATTLE, FACE, EYES, NOSE, MOUTH, ...</td>\n",
       "    </tr>\n",
       "    <tr>\n",
       "      <th>3</th>\n",
       "      <td>[and, theres, a, set, of, eyes]</td>\n",
       "      <td>[BOOK, BIRD, RATTLE, EYES, NOSE, MOUTH, BEAR, ...</td>\n",
       "    </tr>\n",
       "    <tr>\n",
       "      <th>4</th>\n",
       "      <td>[and, theres, a, bear, looking, at, david]</td>\n",
       "      <td>[BOOK, BIRD, RATTLE, EYES, NOSE, MOUTH, BEAR, ...</td>\n",
       "    </tr>\n",
       "  </tbody>\n",
       "</table>\n",
       "</div>"
      ],
      "text/plain": [
       "                                      uttered  \\\n",
       "0         [look, we, can, read, books, david]   \n",
       "1              [its, a, look, and, see, book]   \n",
       "2                          [we, open, it, up]   \n",
       "3             [and, theres, a, set, of, eyes]   \n",
       "4  [and, theres, a, bear, looking, at, david]   \n",
       "\n",
       "                                             visible  \n",
       "0                         [BOOK, BIRD, RATTLE, FACE]  \n",
       "1                         [BOOK, BIRD, RATTLE, FACE]  \n",
       "2  [BOOK, BIRD, RATTLE, FACE, EYES, NOSE, MOUTH, ...  \n",
       "3  [BOOK, BIRD, RATTLE, EYES, NOSE, MOUTH, BEAR, ...  \n",
       "4  [BOOK, BIRD, RATTLE, EYES, NOSE, MOUTH, BEAR, ...  "
      ]
     },
     "execution_count": 3,
     "metadata": {},
     "output_type": "execute_result"
    }
   ],
   "source": [
    "train.head()"
   ]
  },
  {
   "cell_type": "code",
   "execution_count": 4,
   "metadata": {},
   "outputs": [],
   "source": [
    "model = Model.Pursuit(Vocabulary={},gamma=0.1)"
   ]
  },
  {
   "cell_type": "code",
   "execution_count": 6,
   "metadata": {},
   "outputs": [],
   "source": [
    "model.initialize(uttered=\"look\",L_visible=train[\"visible\"][0])"
   ]
  },
  {
   "cell_type": "code",
   "execution_count": 24,
   "metadata": {},
   "outputs": [
    {
     "data": {
      "text/plain": [
       "{'r': 5}"
      ]
     },
     "execution_count": 24,
     "metadata": {},
     "output_type": "execute_result"
    }
   ],
   "source": []
  }
 ],
 "metadata": {
  "kernelspec": {
   "display_name": "Python 3",
   "language": "python",
   "name": "python3"
  },
  "language_info": {
   "codemirror_mode": {
    "name": "ipython",
    "version": 3
   },
   "file_extension": ".py",
   "mimetype": "text/x-python",
   "name": "python",
   "nbconvert_exporter": "python",
   "pygments_lexer": "ipython3",
   "version": "3.11.4"
  }
 },
 "nbformat": 4,
 "nbformat_minor": 2
}
